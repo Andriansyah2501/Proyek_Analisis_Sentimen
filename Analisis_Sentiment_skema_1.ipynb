{
  "nbformat": 4,
  "nbformat_minor": 0,
  "metadata": {
    "colab": {
      "provenance": [],
      "authorship_tag": "ABX9TyP86NfK5KgoIob/JA1cgDMr",
      "include_colab_link": true
    },
    "kernelspec": {
      "name": "python3",
      "display_name": "Python 3"
    },
    "language_info": {
      "name": "python"
    }
  },
  "cells": [
    {
      "cell_type": "markdown",
      "metadata": {
        "id": "view-in-github",
        "colab_type": "text"
      },
      "source": [
        "<a href=\"https://colab.research.google.com/github/Andriansyah2501/Proyek_Analisis_Sentimen/blob/main/Analisis_Sentiment_skema_1.ipynb\" target=\"_parent\"><img src=\"https://colab.research.google.com/assets/colab-badge.svg\" alt=\"Open In Colab\"/></a>"
      ]
    },
    {
      "cell_type": "code",
      "execution_count": 1,
      "metadata": {
        "colab": {
          "base_uri": "https://localhost:8080/"
        },
        "id": "8MgFTZ8dJSCs",
        "outputId": "100bb26b-7e89-483c-84da-2ff4b049ea8f"
      },
      "outputs": [
        {
          "output_type": "stream",
          "name": "stdout",
          "text": [
            "Requirement already satisfied: scikit-learn in /usr/local/lib/python3.11/dist-packages (1.6.1)\n",
            "Requirement already satisfied: numpy>=1.19.5 in /usr/local/lib/python3.11/dist-packages (from scikit-learn) (2.0.2)\n",
            "Requirement already satisfied: scipy>=1.6.0 in /usr/local/lib/python3.11/dist-packages (from scikit-learn) (1.15.3)\n",
            "Requirement already satisfied: joblib>=1.2.0 in /usr/local/lib/python3.11/dist-packages (from scikit-learn) (1.5.0)\n",
            "Requirement already satisfied: threadpoolctl>=3.1.0 in /usr/local/lib/python3.11/dist-packages (from scikit-learn) (3.6.0)\n"
          ]
        }
      ],
      "source": [
        "!pip install scikit-learn"
      ]
    },
    {
      "cell_type": "code",
      "source": [
        "import pandas as pd\n",
        "from sklearn.model_selection import train_test_split\n",
        "from sklearn.ensemble import RandomForestClassifier\n",
        "from sklearn.feature_extraction.text import TfidfVectorizer\n",
        "from sklearn.preprocessing import LabelEncoder\n",
        "from sklearn.metrics import accuracy_score, classification_report"
      ],
      "metadata": {
        "id": "fKlIAv8_Jc5G"
      },
      "execution_count": 10,
      "outputs": []
    },
    {
      "cell_type": "code",
      "source": [
        "from google.colab import drive\n",
        "drive.mount('/content/drive')\n",
        "\n",
        "# Memuat dataset CSV dari hasil clustering\n",
        "df = pd.read_csv('/content/drive/MyDrive/Colab Notebooks/dataset sentimen/dataset_review_mbg.csv')\n",
        "\n",
        "# Cek 5 baris pertama buat pastiin data ke-load\n",
        "print(\"5 Baris Pertama Dataset:\")\n",
        "print(df.head())\n",
        "\n",
        "# Cek info dataset (kolom, tipe data, dll.)\n",
        "print(\"\\nInfo Dataset:\")\n",
        "print(df.info())"
      ],
      "metadata": {
        "colab": {
          "base_uri": "https://localhost:8080/"
        },
        "id": "SMuztYdOJgA9",
        "outputId": "4b2c0e54-ebd3-48ac-d995-bd897722f820"
      },
      "execution_count": 13,
      "outputs": [
        {
          "output_type": "stream",
          "name": "stdout",
          "text": [
            "Drive already mounted at /content/drive; to attempt to forcibly remount, call drive.mount(\"/content/drive\", force_remount=True).\n",
            "5 Baris Pertama Dataset:\n",
            "   id                nama_program      lokasi  \\\n",
            "0   1      Pangan Gratis Posyandu    Denpasar   \n",
            "1   2            Dapur Umum Sehat    Makassar   \n",
            "2   3  Program Gizi Sehat Sekolah    Makassar   \n",
            "3   4  Program Gizi Sehat Sekolah  Balikpapan   \n",
            "4   5      Pangan Gratis Posyandu    Semarang   \n",
            "\n",
            "                                              review  rating     tanggal  \n",
            "0  Rasa makanannya enak dan bergizi, anak saya suka.       4  2025-05-04  \n",
            "1  Program ini luar biasa, makanan lengkap dan be...       5  2025-03-11  \n",
            "2  Makanan selalu segar dan bergizi, sangat memba...       4  2025-04-14  \n",
            "3  Tidak ada informasi jelas tentang jadwal distr...       1  2025-05-06  \n",
            "4  Tidak ada informasi jelas tentang jadwal distr...       2  2024-12-14  \n",
            "\n",
            "Info Dataset:\n",
            "<class 'pandas.core.frame.DataFrame'>\n",
            "RangeIndex: 200 entries, 0 to 199\n",
            "Data columns (total 6 columns):\n",
            " #   Column        Non-Null Count  Dtype \n",
            "---  ------        --------------  ----- \n",
            " 0   id            200 non-null    int64 \n",
            " 1   nama_program  200 non-null    object\n",
            " 2   lokasi        200 non-null    object\n",
            " 3   review        200 non-null    object\n",
            " 4   rating        200 non-null    int64 \n",
            " 5   tanggal       200 non-null    object\n",
            "dtypes: int64(2), object(4)\n",
            "memory usage: 9.5+ KB\n",
            "None\n"
          ]
        }
      ]
    },
    {
      "cell_type": "code",
      "source": [
        "# Label sentimen dari skor rating\n",
        "def label_sentiment(score):\n",
        "    if score >= 4:\n",
        "        return 'positif'\n",
        "    elif score == 3:\n",
        "        return 'netral'\n",
        "    else:\n",
        "        return 'negatif'\n",
        "\n",
        "df['sentiment'] = df['rating'].apply(label_sentiment)\n",
        "print(\"Distribusi sentimen:\\n\", df['sentiment'].value_counts())\n",
        "\n",
        "# TF-IDF\n",
        "vectorizer = TfidfVectorizer(max_features=5000)\n",
        "X = vectorizer.fit_transform(df['review'].astype(str)).toarray()\n",
        "\n",
        "# Label encoding\n",
        "le = LabelEncoder()\n",
        "y = le.fit_transform(df['sentiment'])\n",
        "\n",
        "# Split data\n",
        "X_train, X_test, y_train, y_test = train_test_split(\n",
        "    X, y, test_size=0.2, random_state=42, stratify=y\n",
        ")\n",
        "\n",
        "# Train model\n",
        "model = RandomForestClassifier(n_estimators=100, random_state=42)\n",
        "model.fit(X_train, y_train)\n",
        "\n",
        "# Evaluasi\n",
        "y_pred = model.predict(X_test)\n",
        "print(f\"\\n🎯 Akurasi Testing: {accuracy_score(y_test, y_pred) * 100:.2f}%\")\n",
        "print(\"\\n📊 Classification Report:\\n\", classification_report(y_test, y_pred, target_names=le.classes_))\n",
        "\n",
        "# Fungsi prediksi\n",
        "def prediksi_sentimen(kalimat):\n",
        "    vector = vectorizer.transform([kalimat]).toarray()\n",
        "    hasil = model.predict(vector)\n",
        "    return le.inverse_transform(hasil)[0]\n",
        "\n",
        "# Contoh prediksi\n",
        "contoh = \"Program ini sangat membantu dan makanannya enak\"\n",
        "print(\"\\n🧠 Prediksi untuk contoh kalimat:\")\n",
        "print(f\"Kalimat: {contoh}\")\n",
        "print(f\"Sentimen: {prediksi_sentimen(contoh)}\")"
      ],
      "metadata": {
        "colab": {
          "base_uri": "https://localhost:8080/"
        },
        "id": "_OnstsDPN4mV",
        "outputId": "1e4dd10f-3ec7-4369-cbcf-d256e43f773d"
      },
      "execution_count": 14,
      "outputs": [
        {
          "output_type": "stream",
          "name": "stdout",
          "text": [
            "Distribusi sentimen:\n",
            " sentiment\n",
            "positif    80\n",
            "negatif    72\n",
            "netral     48\n",
            "Name: count, dtype: int64\n",
            "\n",
            "🎯 Akurasi Testing: 67.50%\n",
            "\n",
            "📊 Classification Report:\n",
            "               precision    recall  f1-score   support\n",
            "\n",
            "     negatif       0.87      0.93      0.90        14\n",
            "      netral       0.20      0.10      0.13        10\n",
            "     positif       0.65      0.81      0.72        16\n",
            "\n",
            "    accuracy                           0.68        40\n",
            "   macro avg       0.57      0.61      0.58        40\n",
            "weighted avg       0.61      0.68      0.64        40\n",
            "\n",
            "\n",
            "🧠 Prediksi untuk contoh kalimat:\n",
            "Kalimat: Program ini sangat membantu dan makanannya enak\n",
            "Sentimen: positif\n"
          ]
        }
      ]
    }
  ]
}