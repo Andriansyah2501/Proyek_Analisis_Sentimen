{
  "nbformat": 4,
  "nbformat_minor": 0,
  "metadata": {
    "colab": {
      "provenance": [],
      "authorship_tag": "ABX9TyOPz4LFun8Ekb4G487dvcpi",
      "include_colab_link": true
    },
    "kernelspec": {
      "name": "python3",
      "display_name": "Python 3"
    },
    "language_info": {
      "name": "python"
    }
  },
  "cells": [
    {
      "cell_type": "markdown",
      "metadata": {
        "id": "view-in-github",
        "colab_type": "text"
      },
      "source": [
        "<a href=\"https://colab.research.google.com/github/Andriansyah2501/Proyek_Analisis_Sentimen/blob/main/Analisis_Sentiment_skema_1.ipynb\" target=\"_parent\"><img src=\"https://colab.research.google.com/assets/colab-badge.svg\" alt=\"Open In Colab\"/></a>"
      ]
    },
    {
      "cell_type": "code",
      "execution_count": 3,
      "metadata": {
        "colab": {
          "base_uri": "https://localhost:8080/"
        },
        "id": "8MgFTZ8dJSCs",
        "outputId": "440a14b1-3de9-47ac-ab64-4d7520478db9"
      },
      "outputs": [
        {
          "output_type": "stream",
          "name": "stdout",
          "text": [
            "Requirement already satisfied: scikit-learn in /usr/local/lib/python3.11/dist-packages (1.6.1)\n",
            "Requirement already satisfied: numpy>=1.19.5 in /usr/local/lib/python3.11/dist-packages (from scikit-learn) (2.0.2)\n",
            "Requirement already satisfied: scipy>=1.6.0 in /usr/local/lib/python3.11/dist-packages (from scikit-learn) (1.15.3)\n",
            "Requirement already satisfied: joblib>=1.2.0 in /usr/local/lib/python3.11/dist-packages (from scikit-learn) (1.5.0)\n",
            "Requirement already satisfied: threadpoolctl>=3.1.0 in /usr/local/lib/python3.11/dist-packages (from scikit-learn) (3.6.0)\n"
          ]
        }
      ],
      "source": [
        "!pip install scikit-learn"
      ]
    },
    {
      "cell_type": "code",
      "source": [
        "import pandas as pd\n",
        "from sklearn.model_selection import train_test_split\n",
        "from sklearn.ensemble import RandomForestClassifier\n",
        "from sklearn.feature_extraction.text import TfidfVectorizer\n",
        "from sklearn.preprocessing import LabelEncoder\n",
        "from sklearn.metrics import accuracy_score, classification_report"
      ],
      "metadata": {
        "id": "fKlIAv8_Jc5G"
      },
      "execution_count": 2,
      "outputs": []
    },
    {
      "cell_type": "code",
      "source": [
        "from google.colab import drive\n",
        "drive.mount('/content/drive')\n",
        "\n",
        "# Memuat dataset CSV dari hasil clustering\n",
        "df = pd.read_csv('/content/drive/MyDrive/Colab Notebooks/dataset sentimen/dataset_review_makanan_bergizi_3200.csv')\n",
        "\n",
        "# Cek 5 baris pertama buat pastiin data ke-load\n",
        "print(\"5 Baris Pertama Dataset:\")\n",
        "print(df.head())\n",
        "\n",
        "# Cek info dataset (kolom, tipe data, dll.)\n",
        "print(\"\\nInfo Dataset:\")\n",
        "print(df.info())"
      ],
      "metadata": {
        "colab": {
          "base_uri": "https://localhost:8080/"
        },
        "id": "SMuztYdOJgA9",
        "outputId": "eef21cdd-cda5-484e-e41d-a862e60fdf9d"
      },
      "execution_count": 4,
      "outputs": [
        {
          "output_type": "stream",
          "name": "stdout",
          "text": [
            "Drive already mounted at /content/drive; to attempt to forcibly remount, call drive.mount(\"/content/drive\", force_remount=True).\n",
            "5 Baris Pertama Dataset:\n",
            "                                              review  rating\n",
            "0                Makanannya sangat enak dan bergizi.       5\n",
            "1          Program makan gratis ini sangat membantu.       4\n",
            "2  Saya tidak terlalu suka dengan menu yang diber...       2\n",
            "3          Pelayanannya lambat, tapi makanannya oke.       3\n",
            "4   Sangat bermanfaat untuk masyarakat kurang mampu.       5\n",
            "\n",
            "Info Dataset:\n",
            "<class 'pandas.core.frame.DataFrame'>\n",
            "RangeIndex: 3200 entries, 0 to 3199\n",
            "Data columns (total 2 columns):\n",
            " #   Column  Non-Null Count  Dtype \n",
            "---  ------  --------------  ----- \n",
            " 0   review  3200 non-null   object\n",
            " 1   rating  3200 non-null   int64 \n",
            "dtypes: int64(1), object(1)\n",
            "memory usage: 50.1+ KB\n",
            "None\n"
          ]
        }
      ]
    },
    {
      "cell_type": "code",
      "source": [
        "# Label sentimen dari skor rating\n",
        "def label_sentiment(score):\n",
        "    if score >= 4:\n",
        "        return 'positif'\n",
        "    elif score == 3:\n",
        "        return 'netral'\n",
        "    else:\n",
        "        return 'negatif'\n",
        "\n",
        "df['sentiment'] = df['rating'].apply(label_sentiment)\n",
        "print(\"Distribusi sentimen:\\n\", df['sentiment'].value_counts())\n",
        "\n",
        "# TF-IDF\n",
        "vectorizer = TfidfVectorizer(max_features=5000)\n",
        "X = vectorizer.fit_transform(df['review'].astype(str)).toarray()\n",
        "\n",
        "# Label encoding\n",
        "le = LabelEncoder()\n",
        "y = le.fit_transform(df['sentiment'])\n",
        "\n",
        "# Split data\n",
        "X_train, X_test, y_train, y_test = train_test_split(\n",
        "    X, y, test_size=0.2, random_state=42, stratify=y\n",
        ")\n",
        "\n",
        "# Train model\n",
        "model = RandomForestClassifier(n_estimators=100, random_state=42)\n",
        "model.fit(X_train, y_train)\n",
        "\n",
        "# Evaluasi\n",
        "y_pred = model.predict(X_test)\n",
        "print(f\"\\n🎯 Akurasi Testing: {accuracy_score(y_test, y_pred) * 100:.2f}%\")\n",
        "print(\"\\n📊 Classification Report:\\n\", classification_report(y_test, y_pred, target_names=le.classes_))\n",
        "\n",
        "# Fungsi prediksi\n",
        "def prediksi_sentimen(kalimat):\n",
        "    vector = vectorizer.transform([kalimat]).toarray()\n",
        "    hasil = model.predict(vector)\n",
        "    return le.inverse_transform(hasil)[0]\n",
        "\n",
        "# Contoh prediksi\n",
        "contoh = \"Program ini sangat membantu dan makanannya enak\"\n",
        "print(\"\\n🧠 Prediksi untuk contoh kalimat:\")\n",
        "print(f\"Kalimat: {contoh}\")\n",
        "print(f\"Sentimen: {prediksi_sentimen(contoh)}\")"
      ],
      "metadata": {
        "colab": {
          "base_uri": "https://localhost:8080/"
        },
        "id": "_OnstsDPN4mV",
        "outputId": "65644246-5cd9-4e15-f938-817a6a857ab2"
      },
      "execution_count": 5,
      "outputs": [
        {
          "output_type": "stream",
          "name": "stdout",
          "text": [
            "Distribusi sentimen:\n",
            " sentiment\n",
            "positif    1963\n",
            "negatif     648\n",
            "netral      589\n",
            "Name: count, dtype: int64\n",
            "\n",
            "🎯 Akurasi Testing: 100.00%\n",
            "\n",
            "📊 Classification Report:\n",
            "               precision    recall  f1-score   support\n",
            "\n",
            "     negatif       1.00      1.00      1.00       129\n",
            "      netral       1.00      1.00      1.00       118\n",
            "     positif       1.00      1.00      1.00       393\n",
            "\n",
            "    accuracy                           1.00       640\n",
            "   macro avg       1.00      1.00      1.00       640\n",
            "weighted avg       1.00      1.00      1.00       640\n",
            "\n",
            "\n",
            "🧠 Prediksi untuk contoh kalimat:\n",
            "Kalimat: Program ini sangat membantu dan makanannya enak\n",
            "Sentimen: positif\n"
          ]
        }
      ]
    }
  ]
}