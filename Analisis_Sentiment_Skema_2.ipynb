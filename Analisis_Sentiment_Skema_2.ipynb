{
  "nbformat": 4,
  "nbformat_minor": 0,
  "metadata": {
    "colab": {
      "provenance": [],
      "authorship_tag": "ABX9TyOkvRgu9J3lPX/yMBhjsTyv",
      "include_colab_link": true
    },
    "kernelspec": {
      "name": "python3",
      "display_name": "Python 3"
    },
    "language_info": {
      "name": "python"
    }
  },
  "cells": [
    {
      "cell_type": "markdown",
      "metadata": {
        "id": "view-in-github",
        "colab_type": "text"
      },
      "source": [
        "<a href=\"https://colab.research.google.com/github/Andriansyah2501/Proyek_Analisis_Sentimen/blob/main/Analisis_Sentiment_Skema_2.ipynb\" target=\"_parent\"><img src=\"https://colab.research.google.com/assets/colab-badge.svg\" alt=\"Open In Colab\"/></a>"
      ]
    },
    {
      "cell_type": "code",
      "execution_count": 4,
      "metadata": {
        "colab": {
          "base_uri": "https://localhost:8080/"
        },
        "id": "SY2l01Hb-uoH",
        "outputId": "ad7680fe-7a0b-4514-f828-2880b00d42d3"
      },
      "outputs": [
        {
          "output_type": "stream",
          "name": "stdout",
          "text": [
            "Mounted at /content/drive\n",
            "Kolom yang tersedia: Index(['review', 'rating'], dtype='object')\n",
            "\n",
            "🎯 Akurasi Testing: 100.0 %\n",
            "\n",
            "📊 Classification Report:\n",
            "               precision    recall  f1-score   support\n",
            "\n",
            "     negatif       1.00      1.00      1.00       117\n",
            "      netral       1.00      1.00      1.00       116\n",
            "     positif       1.00      1.00      1.00       407\n",
            "\n",
            "    accuracy                           1.00       640\n",
            "   macro avg       1.00      1.00      1.00       640\n",
            "weighted avg       1.00      1.00      1.00       640\n",
            "\n",
            "\n",
            "🧠 Inference Contoh:\n",
            "Kalimat: Aplikasi ini sangat jelek dan sering error\n",
            "Hasil Prediksi Sentimen: positif\n"
          ]
        }
      ],
      "source": [
        "import pandas as pd\n",
        "import numpy as np\n",
        "import re\n",
        "import string\n",
        "from sklearn.model_selection import train_test_split\n",
        "from sklearn.feature_extraction.text import TfidfVectorizer\n",
        "from sklearn.naive_bayes import MultinomialNB\n",
        "from sklearn.metrics import accuracy_score, classification_report\n",
        "\n",
        "# Load dataset\n",
        "from google.colab import drive\n",
        "drive.mount('/content/drive')\n",
        "\n",
        "# Memuat dataset CSV dari hasil clustering\n",
        "df = pd.read_csv('/content/drive/MyDrive/Colab Notebooks/dataset sentimen/dataset_review_makanan_bergizi_3200.csv')\n",
        "\n",
        "# Cek nama kolom\n",
        "print(\"Kolom yang tersedia:\", df.columns)\n",
        "\n",
        "# Buat kolom 'sentiment' berdasarkan rating\n",
        "# Misalnya Rating 1-2 = Negatif, 3 = Netral, 4-5 = Positif\n",
        "def assign_sentiment(rating):\n",
        "    if rating <= 2:\n",
        "        return 'negatif'\n",
        "    elif rating == 3:\n",
        "        return 'netral'\n",
        "    else:\n",
        "        return 'positif'\n",
        "\n",
        "df['sentiment'] = df['rating'].apply(assign_sentiment)\n",
        "\n",
        "# Filter data untuk sentimen yang valid\n",
        "sentiments = ['positif', 'negatif', 'netral']\n",
        "df = df[df['sentiment'].isin(sentiments)]\n",
        "\n",
        "# Bersihkan data\n",
        "df = df.dropna(subset=['review'])\n",
        "\n",
        "# Preprocessing function\n",
        "def preprocess(text):\n",
        "    text = text.lower()\n",
        "    text = re.sub(r\"http\\S+\", \"\", text)\n",
        "    text = re.sub(r\"<.*?>\", \"\", text)\n",
        "    text = re.sub(f\"[{re.escape(string.punctuation)}]\", \"\", text)\n",
        "    text = re.sub(r\"\\d+\", \"\", text)\n",
        "    text = text.strip()\n",
        "    return text\n",
        "\n",
        "df['cleaned_text'] = df['review'].apply(preprocess)\n",
        "\n",
        "# TF-IDF Vectorization\n",
        "vectorizer = TfidfVectorizer(max_features=5000)\n",
        "X = vectorizer.fit_transform(df['cleaned_text'])\n",
        "y = df['sentiment']\n",
        "\n",
        "# Split data\n",
        "X_train, X_test, y_train, y_test = train_test_split(X, y, test_size=0.2, random_state=42)\n",
        "\n",
        "# Train model\n",
        "model = MultinomialNB()\n",
        "model.fit(X_train, y_train)\n",
        "\n",
        "# Predict\n",
        "y_pred = model.predict(X_test)\n",
        "accuracy = accuracy_score(y_test, y_pred)\n",
        "report = classification_report(y_test, y_pred)\n",
        "\n",
        "print(\"\\n🎯 Akurasi Testing:\", round(accuracy * 100, 2), \"%\")\n",
        "print(\"\\n📊 Classification Report:\\n\", report)\n",
        "\n",
        "# Inference\n",
        "contoh_kalimat = \"Aplikasi ini sangat jelek dan sering error\"\n",
        "contoh_clean = preprocess(contoh_kalimat)\n",
        "contoh_vector = vectorizer.transform([contoh_clean])\n",
        "prediksi = model.predict(contoh_vector)\n",
        "\n",
        "print(\"\\n🧠 Inference Contoh:\")\n",
        "print(\"Kalimat:\", contoh_kalimat)\n",
        "print(\"Hasil Prediksi Sentimen:\", prediksi[0])\n"
      ]
    }
  ]
}