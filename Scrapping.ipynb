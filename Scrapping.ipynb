{
  "cells": [
    {
      "cell_type": "markdown",
      "metadata": {},
      "source": [
        "# Web Scraping Review Makanan Bergizi\n",
        "Notebook ini digunakan untuk scraping data review makanan bergizi dari website tertentu (contoh)."
      ]
    },
    {
      "cell_type": "code",
      "execution_count": null,
      "metadata": {},
      "outputs": [],
      "source": [
        "# Install library jika belum tersedia\n",
        "!pip install requests beautifulsoup4 pandas"
      ]
    },
    {
      "cell_type": "code",
      "execution_count": null,
      "metadata": {},
      "outputs": [],
      "source": [
        "import requests\n",
        "from bs4 import BeautifulSoup\n",
        "import pandas as pd"
      ]
    },
    {
      "cell_type": "code",
      "execution_count": null,
      "metadata": {},
      "outputs": [],
      "source": [
        "# Contoh URL (ganti dengan URL nyata yang sesuai)\n",
        "url = 'https://contohwebsite.com/review-makanan-bergizi'\n",
        "response = requests.get(url)\n",
        "soup = BeautifulSoup(response.text, 'html.parser')"
      ]
    },
    {
      "cell_type": "code",
      "execution_count": null,
      "metadata": {},
      "outputs": [],
      "source": [
        "# Inisialisasi list kosong\n",
        "reviews = []\n",
        "for item in soup.find_all('div', class_='review-item'):\n",
        "    program = item.find('h3').text.strip()\n",
        "    lokasi = item.find('span', class_='lokasi').text.strip()\n",
        "    review = item.find('p', class_='teks-review').text.strip()\n",
        "    rating = int(item.find('span', class_='bintang').text.strip()[0])\n",
        "    tanggal = item.find('span', class_='tanggal').text.strip()\n",
        "\n",
        "    reviews.append({\n",
        "        'nama_program': program,\n",
        "        'lokasi': lokasi,\n",
        "        'review': review,\n",
        "        'rating': rating,\n",
        "        'tanggal': tanggal\n",
        "    })"
      ]
    },
    {
      "cell_type": "code",
      "execution_count": null,
      "metadata": {},
      "outputs": [],
      "source": [
        "# Konversi ke DataFrame dan simpan ke CSV\n",
        "df = pd.DataFrame(reviews)\n",
        "df.to_csv('scraped_reviews.csv', index=False)\n",
        "df.head()"
      ]
    }
  ],
  "metadata": {
    "kernelspec": {
      "display_name": "Python 3",
      "language": "python",
      "name": "python3"
    },
    "language_info": {
      "name": "python",
      "version": "3.8"
    }
  },
  "nbformat": 4,
  "nbformat_minor": 2
}