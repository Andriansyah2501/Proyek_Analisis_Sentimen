{
  "nbformat": 4,
  "nbformat_minor": 0,
  "metadata": {
    "colab": {
      "provenance": [],
      "authorship_tag": "ABX9TyP4aqXhibvLCQpivsBuVMvF",
      "include_colab_link": true
    },
    "kernelspec": {
      "name": "python3",
      "display_name": "Python 3"
    },
    "language_info": {
      "name": "python"
    }
  },
  "cells": [
    {
      "cell_type": "markdown",
      "metadata": {
        "id": "view-in-github",
        "colab_type": "text"
      },
      "source": [
        "<a href=\"https://colab.research.google.com/github/Andriansyah2501/Proyek_Analisis_Sentimen/blob/main/Scrapping.ipynb\" target=\"_parent\"><img src=\"https://colab.research.google.com/assets/colab-badge.svg\" alt=\"Open In Colab\"/></a>"
      ]
    },
    {
      "cell_type": "code",
      "execution_count": 1,
      "metadata": {
        "colab": {
          "base_uri": "https://localhost:8080/"
        },
        "id": "x7KVDAItGQuX",
        "outputId": "e3e41131-a12e-4ca2-95f5-7fb10dd5af28"
      },
      "outputs": [
        {
          "output_type": "stream",
          "name": "stdout",
          "text": [
            "Collecting google-play-scraper\n",
            "  Downloading google_play_scraper-1.2.7-py3-none-any.whl.metadata (50 kB)\n",
            "\u001b[?25l     \u001b[90m━━━━━━━━━━━━━━━━━━━━━━━━━━━━━━━━━━━━━━━━\u001b[0m \u001b[32m0.0/50.2 kB\u001b[0m \u001b[31m?\u001b[0m eta \u001b[36m-:--:--\u001b[0m\r\u001b[2K     \u001b[90m━━━━━━━━━━━━━━━━━━━━━━━━━━━━━━━━━━━━━━━━\u001b[0m \u001b[32m50.2/50.2 kB\u001b[0m \u001b[31m2.2 MB/s\u001b[0m eta \u001b[36m0:00:00\u001b[0m\n",
            "\u001b[?25hDownloading google_play_scraper-1.2.7-py3-none-any.whl (28 kB)\n",
            "Installing collected packages: google-play-scraper\n",
            "Successfully installed google-play-scraper-1.2.7\n"
          ]
        }
      ],
      "source": [
        "!pip install google-play-scraper"
      ]
    },
    {
      "cell_type": "code",
      "source": [
        "from google_play_scraper import reviews\n",
        "import pandas as pd"
      ],
      "metadata": {
        "id": "f-tf5rnrGWqX"
      },
      "execution_count": 2,
      "outputs": []
    },
    {
      "cell_type": "code",
      "source": [
        "def scrape_reviews(app_id, total_reviews=3000):\n",
        "    all_reviews = []\n",
        "    count = 0\n",
        "\n",
        "    while len(all_reviews) < total_reviews:\n",
        "        review_batch, _ = reviews(\n",
        "            app_id,\n",
        "            lang='id',\n",
        "            country='id',\n",
        "            count=200,\n",
        "            filter_score_with=None\n",
        "        )\n",
        "        all_reviews.extend(review_batch)\n",
        "        count += 1\n",
        "        if count > 20:\n",
        "            break\n",
        "\n",
        "    df = pd.DataFrame(all_reviews)\n",
        "    df = df[['content', 'score']]\n",
        "    df.columns = ['review', 'rating']\n",
        "    df.to_csv('ddataset_review_makanan_bergizi_3200', index=False)\n",
        "    print(f\"✅ Berhasil simpan {len(df)} data ke dataset_review_makanan_bergizi_3200\")\n"
      ],
      "metadata": {
        "id": "tWxs_vq_GXpf"
      },
      "execution_count": 3,
      "outputs": []
    },
    {
      "cell_type": "code",
      "source": [
        "scrape_reviews('com.whatsapp', 3000)"
      ],
      "metadata": {
        "colab": {
          "base_uri": "https://localhost:8080/"
        },
        "id": "U6TQNWMaGdD2",
        "outputId": "4919eab8-0b87-4e38-8bdf-315233d72a70"
      },
      "execution_count": 4,
      "outputs": [
        {
          "output_type": "stream",
          "name": "stdout",
          "text": [
            "✅ Berhasil simpan 3000 data ke dataset_review_makanan_bergizi_3200\n"
          ]
        }
      ]
    }
  ]
}